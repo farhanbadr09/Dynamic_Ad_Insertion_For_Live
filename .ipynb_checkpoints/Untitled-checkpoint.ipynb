{
 "cells": [
  {
   "cell_type": "code",
   "execution_count": 183,
   "id": "1ad5b291",
   "metadata": {},
   "outputs": [
    {
     "name": "stdout",
     "output_type": "stream",
     "text": [
      "<Element '{urn:mpeg:dash:schema:mpd:2011}Period' at 0x00000216ED9A5EF0>\n",
      "<Element '{urn:mpeg:dash:schema:mpd:2011}Period' at 0x00000216ED9959F0>\n",
      "<Element '{urn:mpeg:dash:schema:mpd:2011}Period' at 0x00000216ED9992C0>\n",
      "<Element '{urn:mpeg:dash:schema:mpd:2011}Period' at 0x00000216ED999AE0>\n",
      "<Element '{urn:mpeg:dash:schema:mpd:2011}Period' at 0x00000216ED9C1360>\n",
      "<Element '{urn:mpeg:dash:schema:mpd:2011}Period' at 0x00000216ED9C1B80>\n",
      "<Element '{urn:mpeg:dash:schema:mpd:2011}Period' at 0x00000216ED9C8400>\n",
      "<Element '{urn:mpeg:dash:schema:mpd:2011}Period' at 0x00000216ED9C8C70>\n",
      "<Element '{urn:mpeg:dash:schema:mpd:2011}ServiceDescription' at 0x00000216ED9CF950>\n",
      "<Element '{urn:mpeg:dash:schema:mpd:2011}UTCTiming' at 0x00000216ED9CFC70>\n"
     ]
    }
   ],
   "source": [
    "#1\n",
    "import xml.etree.ElementTree as ET \n",
    "\n",
    "#2 \n",
    "tree = ET.parse('usman.xml') \n",
    "root = tree.getroot() \n",
    "for i in root:\n",
    "    print(i)"
   ]
  },
  {
   "cell_type": "code",
   "execution_count": 179,
   "id": "2453b022",
   "metadata": {},
   "outputs": [],
   "source": [
    "f = open(\"a_file.xml\", \"r\")\n",
    "data = []\n",
    "for i in f:\n",
    "    data.append(i)\n",
    "data"
   ]
  },
  {
   "cell_type": "code",
   "execution_count": 182,
   "id": "6a085bfc",
   "metadata": {},
   "outputs": [],
   "source": [
    "\n",
    "textfile = open(\"a_file.xml\", \"w\")\n",
    "for element in data:\n",
    "    textfile.write(element + \"\\n\")\n",
    "textfile.close()"
   ]
  },
  {
   "cell_type": "code",
   "execution_count": 165,
   "id": "05d1602c",
   "metadata": {},
   "outputs": [
    {
     "data": {
      "text/plain": [
       "'\\n      '"
      ]
     },
     "execution_count": 165,
     "metadata": {},
     "output_type": "execute_result"
    }
   ],
   "source": [
    "from xml.etree import ElementTree\n",
    "tree = ElementTree.parse(\"farhan.xml\")\n",
    "root = tree.getroot()\n",
    "root[0][1].text\n"
   ]
  },
  {
   "cell_type": "code",
   "execution_count": 123,
   "id": "31451d60",
   "metadata": {},
   "outputs": [
    {
     "data": {
      "text/plain": [
       "[]"
      ]
     },
     "execution_count": 123,
     "metadata": {},
     "output_type": "execute_result"
    }
   ],
   "source": [
    "tree = ElementTree.parse(\"a_file.xml\")\n",
    "root = tree.getroot()\n",
    "# root[1].text"
   ]
  },
  {
   "cell_type": "code",
   "execution_count": 121,
   "id": "1b9baffa",
   "metadata": {},
   "outputs": [
    {
     "data": {
      "text/plain": [
       "'\\n    '"
      ]
     },
     "execution_count": 121,
     "metadata": {},
     "output_type": "execute_result"
    }
   ],
   "source": [
    "root[0].text"
   ]
  },
  {
   "cell_type": "code",
   "execution_count": 150,
   "id": "3c707a36",
   "metadata": {},
   "outputs": [],
   "source": [
    "for neighbor in root.iter('Farhan'):\n",
    "    print(neighbor.text)"
   ]
  },
  {
   "cell_type": "code",
   "execution_count": 149,
   "id": "c6d2f826",
   "metadata": {},
   "outputs": [
    {
     "data": {
      "text/plain": [
       "['htts://www.farhan09.com',\n",
       " 'htts://www.farhan09.com',\n",
       " 'htts://www.farhan09.com',\n",
       " 'htts://www.farhan09.com',\n",
       " 'htts://www.farhan09.com',\n",
       " 'htts://www.farhan09.com',\n",
       " 'htts://www.farhan09.com',\n",
       " 'htts://www.farhan09.com',\n",
       " 'htts://www.farhan09.com',\n",
       " 'htts://www.farhan09.com']"
      ]
     },
     "execution_count": 149,
     "metadata": {},
     "output_type": "execute_result"
    }
   ],
   "source": [
    "#Replacing content algorithm\n",
    "\n",
    "b = []\n",
    "tree = ElementTree.parse(\"mpd\")\n",
    "root = tree.getroot()\n",
    "for child in root:\n",
    "    a = child.text\n",
    "    a = \"htts://www.farhan09.com\"\n",
    "    b.append(a)\n",
    "b"
   ]
  },
  {
   "cell_type": "code",
   "execution_count": 144,
   "id": "36e8d675",
   "metadata": {},
   "outputs": [
    {
     "name": "stdout",
     "output_type": "stream",
     "text": [
      "https://live.unified-streaming.com/scte35/scte35.isml/dash/\n",
      "\n",
      "      \n",
      "\n",
      "      \n",
      "https://live.unified-streaming.com/scte35/scte35.isml/dash/\n",
      "\n",
      "      \n",
      "\n",
      "      \n",
      "https://live.unified-streaming.com/scte35/scte35.isml/dash/\n",
      "\n",
      "      \n",
      "\n",
      "      \n",
      "https://live.unified-streaming.com/scte35/scte35.isml/dash/\n",
      "\n",
      "      \n",
      "\n",
      "      \n",
      "https://live.unified-streaming.com/scte35/scte35.isml/dash/\n",
      "\n",
      "      \n",
      "\n",
      "      \n",
      "https://live.unified-streaming.com/scte35/scte35.isml/dash/\n",
      "\n",
      "      \n",
      "\n",
      "      \n",
      "https://live.unified-streaming.com/scte35/scte35.isml/dash/\n",
      "\n",
      "      \n",
      "\n",
      "      \n",
      "https://cdn.daiconnect.com/dev/dash-template2/957526495ede988b024fda268e15bd64/\n",
      "\n",
      "      \n",
      "\n",
      "      \n",
      "\n",
      "      \n",
      "None\n",
      "None\n",
      "None\n"
     ]
    }
   ],
   "source": [
    "tree = ElementTree.parse(\"mpd\")\n",
    "root = tree.getroot()\n",
    "for i in root:\n",
    "    for a in i:\n",
    "        print(a.text)\n",
    "\n",
    "# b2tf.attrib[\"title\"] = \"Back to the Future\""
   ]
  },
  {
   "cell_type": "code",
   "execution_count": 159,
   "id": "8f41cd66",
   "metadata": {},
   "outputs": [],
   "source": [
    "root.attrib[\"baseurl\"] = \"Back to the Future\"\n"
   ]
  },
  {
   "cell_type": "code",
   "execution_count": 157,
   "id": "86353b8d",
   "metadata": {},
   "outputs": [
    {
     "name": "stdout",
     "output_type": "stream",
     "text": [
      "https://live.unified-streaming.com/scte35/scte35.isml/dash/\n",
      "\n",
      "      \n",
      "\n",
      "      \n",
      "https://live.unified-streaming.com/scte35/scte35.isml/dash/\n",
      "\n",
      "      \n",
      "\n",
      "      \n",
      "https://live.unified-streaming.com/scte35/scte35.isml/dash/\n",
      "\n",
      "      \n",
      "\n",
      "      \n",
      "https://live.unified-streaming.com/scte35/scte35.isml/dash/\n",
      "\n",
      "      \n",
      "\n",
      "      \n",
      "https://live.unified-streaming.com/scte35/scte35.isml/dash/\n",
      "\n",
      "      \n",
      "\n",
      "      \n",
      "https://live.unified-streaming.com/scte35/scte35.isml/dash/\n",
      "\n",
      "      \n",
      "\n",
      "      \n",
      "https://live.unified-streaming.com/scte35/scte35.isml/dash/\n",
      "\n",
      "      \n",
      "\n",
      "      \n",
      "https://cdn.daiconnect.com/dev/dash-template2/957526495ede988b024fda268e15bd64/\n",
      "\n",
      "      \n",
      "\n",
      "      \n",
      "\n",
      "      \n",
      "None\n",
      "None\n",
      "None\n"
     ]
    }
   ],
   "source": [
    "\n",
    "for i in root:\n",
    "    for a in i:\n",
    "        print(a.text)\n",
    "\n",
    "# b2tf.attrib[\"title\"] = \"Back to the Future\""
   ]
  }
 ],
 "metadata": {
  "kernelspec": {
   "display_name": "Python 3 (ipykernel)",
   "language": "python",
   "name": "python3"
  },
  "language_info": {
   "codemirror_mode": {
    "name": "ipython",
    "version": 3
   },
   "file_extension": ".py",
   "mimetype": "text/x-python",
   "name": "python",
   "nbconvert_exporter": "python",
   "pygments_lexer": "ipython3",
   "version": "3.9.7"
  }
 },
 "nbformat": 4,
 "nbformat_minor": 5
}
