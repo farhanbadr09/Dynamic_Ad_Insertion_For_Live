{
 "cells": [
  {
   "cell_type": "code",
   "execution_count": 2,
   "id": "5e3ef355",
   "metadata": {},
   "outputs": [],
   "source": [
    "import requests"
   ]
  },
  {
   "cell_type": "code",
   "execution_count": 7,
   "id": "35d2d0f1",
   "metadata": {},
   "outputs": [],
   "source": [
    "response = requests.get(\"https://demo.daiconnect.com/live/dash/usp/dash_blue/something.mpd?requestuid=bbd47347-840b-44e3-bb47-2d3bd57b7d6b\")"
   ]
  },
  {
   "cell_type": "code",
   "execution_count": 12,
   "id": "aa78e4b4",
   "metadata": {},
   "outputs": [],
   "source": [
    "import time\n",
    "import requests\n",
    "url = \"https://demo.daiconnect.com/live/dash/usp/dash_blue/.mpd?requestuid=bbd47347-840b-44e3-bb47-2d3bd57b7d6b\"\n",
    "respons = requests.get(url)\n",
    "half_link = respons.request.url.rpartition('_')[0]\n",
    "half_link += \"_blue\"\n",
    "from bs4 import BeautifulSoup\n",
    "# with open('feed.xml', 'r' , encoding='utf-8', errors='ignore') as f:\n",
    "#     data = f.read()\n",
    "Bs_data = BeautifulSoup(respons.content, \"xml\")\n",
    "for postcode_tag in Bs_data.find_all(\"BaseURL\"):\n",
    "    postcode_tag.string = half_link\n",
    "with open(\"usman.xml\", \"w\") as outfile:\n",
    "    outfile.write(Bs_data.prettify())\n",
    "\n",
    "\n",
    "# automate_update(url)\n",
    "time.sleep(3)\n",
    "\n",
    "\n"
   ]
  },
  {
   "cell_type": "code",
   "execution_count": null,
   "id": "d8d06b16",
   "metadata": {},
   "outputs": [],
   "source": [
    "import time\n",
    "import requests\n",
    "def automate_update(url):\n",
    "    respons = requests.get(url)\n",
    "    half_link = respons.request.url.rpartition('_')[0]\n",
    "    half_link += \"_blue\"\n",
    "    from bs4 import BeautifulSoup\n",
    "    # with open('feed.xml', 'r' , encoding='utf-8', errors='ignore') as f:\n",
    "    #     data = f.read()\n",
    "    Bs_data = BeautifulSoup(respons.content, \"xml\")\n",
    "    for postcode_tag in Bs_data.find_all(\"BaseURL\"):\n",
    "        postcode_tag.string = half_link\n",
    "    with open(\"usman.mpd\", \"w\") as outfile:\n",
    "        outfile.write(Bs_data.prettify())\n",
    "\n",
    "while True:\n",
    "    url = \"https://demo.daiconnect.com/live/dash/usp/dash_blue/.mpd?requestuid=bbd47347-840b-44e3-bb47-2d3bd57b7d6b\"\n",
    "    automate_update(url)\n",
    "    time.sleep(3)\n",
    "        "
   ]
  }
 ],
 "metadata": {
  "kernelspec": {
   "display_name": "Python 3 (ipykernel)",
   "language": "python",
   "name": "python3"
  },
  "language_info": {
   "codemirror_mode": {
    "name": "ipython",
    "version": 3
   },
   "file_extension": ".py",
   "mimetype": "text/x-python",
   "name": "python",
   "nbconvert_exporter": "python",
   "pygments_lexer": "ipython3",
   "version": "3.9.6"
  }
 },
 "nbformat": 4,
 "nbformat_minor": 5
}
